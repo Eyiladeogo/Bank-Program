{
 "cells": [
  {
   "cell_type": "markdown",
   "id": "raEGRP2u2K92",
   "metadata": {
    "id": "raEGRP2u2K92"
   },
   "source": [
    "## Python Fundamentals\n",
    "\n",
    "The objective of this section is to test your understanding of basic python syntax. "
   ]
  },
  {
   "cell_type": "markdown",
   "id": "yuhXd7Nb2K95",
   "metadata": {
    "id": "yuhXd7Nb2K95"
   },
   "source": [
    "1. **Write some code, without using functions, that calculates the average of 5 numbers.**\n",
    "\n",
    "_Enter code into two Jupyter notebooks cells: the first stores value as variables, and the second computes the average._\n"
   ]
  },
  {
   "cell_type": "code",
   "execution_count": null,
   "id": "-tfseYbx2K96",
   "metadata": {
    "id": "-tfseYbx2K96"
   },
   "outputs": [],
   "source": [
    "num_1 = 1\n",
    "num_2 = 2\n",
    "num_3 = 3\n",
    "num_4 = 4\n",
    "num_5 = 5"
   ]
  },
  {
   "cell_type": "code",
   "execution_count": null,
   "id": "_bazlkeK2K96",
   "metadata": {
    "id": "_bazlkeK2K96"
   },
   "outputs": [],
   "source": [
    "average = (num_1+num_2+num_3+num_4+num_5)/5"
   ]
  },
  {
   "cell_type": "markdown",
   "id": "_1aQzFyE2K96",
   "metadata": {
    "id": "_1aQzFyE2K96"
   },
   "source": [
    "2. **Using python functions, write some code that takes two strings as arguments and perform the following operations:**\n",
    "    - print the two strings with the first letter capitalized,\n",
    "    - print the two strings  with all letters capitalized, \n",
    "    - print the first and last letter of each,\n",
    "    - print the length of each,\n",
    "    - Print the concatenation of the two strings\n",
    "    "
   ]
  },
  {
   "cell_type": "code",
   "execution_count": null,
   "id": "YbRAZYPD2K97",
   "metadata": {
    "id": "YbRAZYPD2K97"
   },
   "outputs": [],
   "source": [
    "def str_function(str_1, str_2):\n",
    "    print(str_1[0].upper())\n",
    "    print(str_2[0].upper())"
   ]
  },
  {
   "cell_type": "code",
   "execution_count": null,
   "id": "mSNnfEGr2K97",
   "metadata": {
    "id": "mSNnfEGr2K97"
   },
   "outputs": [],
   "source": [
    "def str_function(str_1, str_2):\n",
    "    new_str_1 = str_1.upper()\n",
    "    new_str_2 = str_2.upper()\n",
    "    print(new_str_1)\n",
    "    print_new_str_2)"
   ]
  },
  {
   "cell_type": "code",
   "execution_count": null,
   "id": "0DhZv6pI2K98",
   "metadata": {
    "id": "0DhZv6pI2K98"
   },
   "outputs": [],
   "source": [
    "def str_function(str_1, str_2):\n",
    "    print(str_1[0])\n",
    "    print(str_1[len(str_1)-1])\n",
    "    print(str_2[0])\n",
    "    print(str_2[len(str_2)-1])"
   ]
  },
  {
   "cell_type": "code",
   "execution_count": 3,
   "id": "E-mai6rQ2K98",
   "metadata": {
    "id": "E-mai6rQ2K98"
   },
   "outputs": [
    {
     "name": "stdout",
     "output_type": "stream",
     "text": [
      "3\n",
      "4\n"
     ]
    }
   ],
   "source": [
    "def str_function(str_1, str_2):\n",
    "    print(len(str_1))  \n",
    "    print(len(str_2))\n"
   ]
  },
  {
   "cell_type": "code",
   "execution_count": 4,
   "id": "bnbzL3n92K98",
   "metadata": {
    "id": "bnbzL3n92K98"
   },
   "outputs": [
    {
     "name": "stdout",
     "output_type": "stream",
     "text": [
      "eyilade\n"
     ]
    }
   ],
   "source": [
    "def str_function(str_1, str_2):\n",
    "    print(str_1+str_2)"
   ]
  },
  {
   "cell_type": "markdown",
   "id": "LUCHr8jv2K99",
   "metadata": {
    "id": "LUCHr8jv2K99"
   },
   "source": [
    "3. **Define a function that can convert an integer into a string and returns the result in console.**"
   ]
  },
  {
   "cell_type": "code",
   "execution_count": 5,
   "id": "KypfyDZf2K99",
   "metadata": {
    "id": "KypfyDZf2K99"
   },
   "outputs": [
    {
     "name": "stdout",
     "output_type": "stream",
     "text": [
      "65\n"
     ]
    }
   ],
   "source": [
    "def int_to_str(number):\n",
    "    return str(number)"
   ]
  },
  {
   "cell_type": "markdown",
   "id": "sQB_OxxK2K99",
   "metadata": {
    "id": "sQB_OxxK2K99"
   },
   "source": [
    "4. **Define a function that can accept two strings as input and return the string with maximum length in console. If two strings have the same length, then the function should return both strings on separate lines.**\n",
    "\n",
    "  _Hint:_ _Use len( ) function to get the length of a string_\n"
   ]
  },
  {
   "cell_type": "code",
   "execution_count": 8,
   "id": "nsvgI6tK2K9-",
   "metadata": {
    "id": "nsvgI6tK2K9-"
   },
   "outputs": [
    {
     "name": "stdout",
     "output_type": "stream",
     "text": [
      "indigo\n",
      "useful\n"
     ]
    }
   ],
   "source": [
    "def str_function(str_1, str_2):\n",
    "    length_str_1 = len(str_1)\n",
    "    length_str_2 = len(str_2)\n",
    "    if length_str_1 > length_str_2:\n",
    "        print (str_1)\n",
    "    elif length_str_2 > length_str_1:\n",
    "        print (str_2)\n",
    "    else:\n",
    "        print (str_1)\n",
    "        print (str_2)"
   ]
  },
  {
   "cell_type": "markdown",
   "id": "jYiK50qa2K9-",
   "metadata": {
    "id": "jYiK50qa2K9-"
   },
   "source": [
    "5. __Define a function which can generate and return a list where the values are square of numbers between 1 and 20 (both included).__"
   ]
  },
  {
   "cell_type": "code",
   "execution_count": 12,
   "id": "cYNZ4Nt42K9-",
   "metadata": {
    "id": "cYNZ4Nt42K9-"
   },
   "outputs": [
    {
     "name": "stdout",
     "output_type": "stream",
     "text": [
      "[1, 4, 9, 16, 25, 36, 49, 64, 81, 100, 121, 144, 169, 196, 225, 256, 289, 324, 361, 400]\n"
     ]
    }
   ],
   "source": [
    "squares = []\n",
    "def squares_function():\n",
    "    for number in range(1, 21):\n",
    "        squares.append(number*number)\n",
    "    print (squares)\n",
    "squares_function()"
   ]
  },
  {
   "cell_type": "markdown",
   "id": "h7Oml6kf2K9-",
   "metadata": {
    "id": "h7Oml6kf2K9-"
   },
   "source": [
    "6. **Write a function that takes a list of numbers and returns all the unique numbers in ascending order.**<br>\n",
    "_Suppose the following input is supplied to the program:_ <br>**34,98,55,33,34,98**\n",
    "<br>_Then, the output should be:_\n",
    "<br>__('33', '34', '55','98')__\n",
    "\n",
    "    _Hint: Use set( )_\n"
   ]
  },
  {
   "cell_type": "code",
   "execution_count": 95,
   "id": "C4gcLD4Z2K9_",
   "metadata": {
    "id": "C4gcLD4Z2K9_"
   },
   "outputs": [
    {
     "name": "stdout",
     "output_type": "stream",
     "text": [
      "Enter the numbers with a ',' separating them: 34,98,55,33,34,98\n",
      "{33, 34, 98, 55}\n"
     ]
    }
   ],
   "source": [
    "random_list_str = input(\"Enter the numbers with a ',' separating them: \").split(\",\")   #gets input from the user and converts into a list\n",
    "random_list_int = [int(x) for x in random_list_str]\n",
    "random_set = set(random_list_int)\n",
    "new_set = set()\n",
    "for iterations in range(1, len(random_set)+1):    #number of times we iterate and remove max\n",
    "    lowest_number = min(random_set)\n",
    "    new_set.add(lowest_number)\n",
    "    random_set.remove(lowest_number)\n",
    "print(new_set)\n",
    "\n",
    "\n",
    "# random_list_str = input(\"Enter the numbers with a ',' separating them: \").split(\",\")   #gets input from the user and converts into a list\n",
    "# random_list_int = [int(x) for x in random_list_str]\n",
    "# random_list_int.sort()\n",
    "# print(set(random_list_int))"
   ]
  },
  {
   "cell_type": "markdown",
   "id": "eRFwuG0y2K9_",
   "metadata": {
    "id": "eRFwuG0y2K9_"
   },
   "source": [
    "7. __Define a function that accepts a list of numbers as input and return a list where each element is multiplied by 10. In this case, you need to write a function that will work for arbitrary input.__"
   ]
  },
  {
   "cell_type": "code",
   "execution_count": 26,
   "id": "U43vhL9L2K9_",
   "metadata": {
    "id": "U43vhL9L2K9_"
   },
   "outputs": [
    {
     "name": "stdout",
     "output_type": "stream",
     "text": [
      "Enter the numbers with a ',' separating them: 34,98,55,33,34,98\n",
      "[340.0, 980.0, 550.0, 330.0, 340.0, 980.0]\n"
     ]
    }
   ],
   "source": [
    "random_list_str = input(\"Enter the numbers with a ',' separating them: \").split(\",\")   #gets input from the user and converts into a list\n",
    "random_list_float = [float(x) for x in random_list_str]\n",
    "length = len(random_list_float)\n",
    "new_list = []\n",
    "def multiply_by_ten(random_list):\n",
    "    for number in random_list:\n",
    "        new_number = number * 10 \n",
    "        new_list.append(new_number)\n",
    "    print (new_list)\n",
    "multiply_by_ten(random_list_float)"
   ]
  },
  {
   "cell_type": "markdown",
   "id": "r4wrtkym2K9_",
   "metadata": {
    "id": "r4wrtkym2K9_"
   },
   "source": [
    "8. **Write a function to calculate the arithmetic mean. The input to your function should assume that the data to be processed is a python list**"
   ]
  },
  {
   "cell_type": "code",
   "execution_count": 27,
   "id": "zGSeS2it2K-A",
   "metadata": {
    "id": "zGSeS2it2K-A"
   },
   "outputs": [
    {
     "name": "stdout",
     "output_type": "stream",
     "text": [
      "Enter the numbers with a ',' separating them: 34,98,55,33,34,98\n",
      "58.666666666666664\n"
     ]
    }
   ],
   "source": [
    "random_list_str = input(\"Enter the numbers with a ',' separating them: \").split(\",\")   #gets input from the user and converts into a list\n",
    "random_list_float = [float(x) for x in random_list_str]\n",
    "length = len(random_list_float)\n",
    "new_list = []\n",
    "def arithmetic_mean(random_list):\n",
    "    total = 0\n",
    "    size = len(random_list)\n",
    "    for number in random_list:\n",
    "        total += number\n",
    "    mean = total/size\n",
    "    return mean\n",
    "print (arithmetic_mean(random_list_float))"
   ]
  },
  {
   "cell_type": "markdown",
   "id": "-RcfFEjy2K-A",
   "metadata": {
    "id": "-RcfFEjy2K-A"
   },
   "source": [
    "## Python Intermediate\n"
   ]
  },
  {
   "cell_type": "markdown",
   "id": "rtvQIUGf2K-A",
   "metadata": {
    "id": "rtvQIUGf2K-A"
   },
   "source": [
    "1. **Write a function that does the following:**\n",
    "    - Create a list of 10 random integers in the range of -100 to 100.**\n",
    "    - Loop through that list using a for loop. Put the non-negative (positive or zero) integers into a new list. If negative integers are encountered, print a message saying that the value is negative and printing that value."
   ]
  },
  {
   "cell_type": "code",
   "execution_count": 31,
   "id": "xKYaCc9L2K-A",
   "metadata": {
    "id": "xKYaCc9L2K-A"
   },
   "outputs": [
    {
     "name": "stdout",
     "output_type": "stream",
     "text": [
      "The number is negative: -60\n",
      "The number is negative: -15\n",
      "The number is negative: -37\n",
      "[-60, -15, 31, 43, 75, 48, 4, 9, -37, 69]\n",
      "[31, 43, 75, 48, 4, 9, 69]\n"
     ]
    }
   ],
   "source": [
    "import random\n",
    "\n",
    "def function():\n",
    "    general_list = []\n",
    "    positive_list = []\n",
    "    for number in range (0, 10):\n",
    "        general_list.append(random.randint(-100,100))\n",
    "        if general_list[number] >=0 :\n",
    "            positive_list.append(general_list[number])\n",
    "        else:\n",
    "            print (f\"The number is negative: {general_list[number]}\")\n",
    "    print (general_list)\n",
    "    print (positive_list)\n",
    "function()"
   ]
  },
  {
   "cell_type": "markdown",
   "id": "zTfKu6ZA2K-A",
   "metadata": {
    "id": "zTfKu6ZA2K-A"
   },
   "source": [
    "\n",
    "2. **A prime number is a whole number greater than 1 whose only factors are 1 and itself. A factor is a whole number that can be divided evenly into another number. Write a function that accepts a number as input and return all the prime number within the range of the input.**"
   ]
  },
  {
   "cell_type": "code",
   "execution_count": 85,
   "id": "Pf7hpQX42K-A",
   "metadata": {
    "id": "Pf7hpQX42K-A"
   },
   "outputs": [
    {
     "name": "stdout",
     "output_type": "stream",
     "text": [
      "Enter the number: 6\n",
      "6 is not a prime number\n"
     ]
    }
   ],
   "source": [
    "def prime_number(potential_prime):\n",
    "    is_not_prime = False\n",
    "    if potential_prime > 1:\n",
    "        for number in range(2, potential_prime):\n",
    "            if potential_prime % number == 0:\n",
    "                is_not_prime = True\n",
    "                break\n",
    "    if is_not_prime:\n",
    "        print(f\"{potential_prime} is not a prime number\")\n",
    "    else:\n",
    "        print(f\"{potential_prime} is a prime number\")\n",
    "num_range = int(input(\"Enter the number: \"))\n",
    "prime_number(num_range)"
   ]
  },
  {
   "cell_type": "markdown",
   "id": "t3gJ3LyM2K-A",
   "metadata": {
    "id": "t3gJ3LyM2K-A"
   },
   "source": [
    "3. **Write a program, which will find all such numbers between 1000 and 3000 (both included) such that each digit of the number is an even number. The numbers obtained should be printed in a comma-separated sequence on a single line.**\n"
   ]
  },
  {
   "cell_type": "code",
   "execution_count": 32,
   "id": "doSBnBg02K-B",
   "metadata": {
    "id": "doSBnBg02K-B"
   },
   "outputs": [
    {
     "name": "stdout",
     "output_type": "stream",
     "text": [
      "1000,\n",
      "1002,\n",
      "1004,\n",
      "1006,\n",
      "1008,\n",
      "1010,\n",
      "1012,\n",
      "1014,\n",
      "1016,\n",
      "1018,\n",
      "1020,\n",
      "1022,\n",
      "1024,\n",
      "1026,\n",
      "1028,\n",
      "1030,\n",
      "1032,\n",
      "1034,\n",
      "1036,\n",
      "1038,\n",
      "1040,\n",
      "1042,\n",
      "1044,\n",
      "1046,\n",
      "1048,\n",
      "1050,\n",
      "1052,\n",
      "1054,\n",
      "1056,\n",
      "1058,\n",
      "1060,\n",
      "1062,\n",
      "1064,\n",
      "1066,\n",
      "1068,\n",
      "1070,\n",
      "1072,\n",
      "1074,\n",
      "1076,\n",
      "1078,\n",
      "1080,\n",
      "1082,\n",
      "1084,\n",
      "1086,\n",
      "1088,\n",
      "1090,\n",
      "1092,\n",
      "1094,\n",
      "1096,\n",
      "1098,\n",
      "1100,\n",
      "1102,\n",
      "1104,\n",
      "1106,\n",
      "1108,\n",
      "1110,\n",
      "1112,\n",
      "1114,\n",
      "1116,\n",
      "1118,\n",
      "1120,\n",
      "1122,\n",
      "1124,\n",
      "1126,\n",
      "1128,\n",
      "1130,\n",
      "1132,\n",
      "1134,\n",
      "1136,\n",
      "1138,\n",
      "1140,\n",
      "1142,\n",
      "1144,\n",
      "1146,\n",
      "1148,\n",
      "1150,\n",
      "1152,\n",
      "1154,\n",
      "1156,\n",
      "1158,\n",
      "1160,\n",
      "1162,\n",
      "1164,\n",
      "1166,\n",
      "1168,\n",
      "1170,\n",
      "1172,\n",
      "1174,\n",
      "1176,\n",
      "1178,\n",
      "1180,\n",
      "1182,\n",
      "1184,\n",
      "1186,\n",
      "1188,\n",
      "1190,\n",
      "1192,\n",
      "1194,\n",
      "1196,\n",
      "1198,\n",
      "1200,\n",
      "1202,\n",
      "1204,\n",
      "1206,\n",
      "1208,\n",
      "1210,\n",
      "1212,\n",
      "1214,\n",
      "1216,\n",
      "1218,\n",
      "1220,\n",
      "1222,\n",
      "1224,\n",
      "1226,\n",
      "1228,\n",
      "1230,\n",
      "1232,\n",
      "1234,\n",
      "1236,\n",
      "1238,\n",
      "1240,\n",
      "1242,\n",
      "1244,\n",
      "1246,\n",
      "1248,\n",
      "1250,\n",
      "1252,\n",
      "1254,\n",
      "1256,\n",
      "1258,\n",
      "1260,\n",
      "1262,\n",
      "1264,\n",
      "1266,\n",
      "1268,\n",
      "1270,\n",
      "1272,\n",
      "1274,\n",
      "1276,\n",
      "1278,\n",
      "1280,\n",
      "1282,\n",
      "1284,\n",
      "1286,\n",
      "1288,\n",
      "1290,\n",
      "1292,\n",
      "1294,\n",
      "1296,\n",
      "1298,\n",
      "1300,\n",
      "1302,\n",
      "1304,\n",
      "1306,\n",
      "1308,\n",
      "1310,\n",
      "1312,\n",
      "1314,\n",
      "1316,\n",
      "1318,\n",
      "1320,\n",
      "1322,\n",
      "1324,\n",
      "1326,\n",
      "1328,\n",
      "1330,\n",
      "1332,\n",
      "1334,\n",
      "1336,\n",
      "1338,\n",
      "1340,\n",
      "1342,\n",
      "1344,\n",
      "1346,\n",
      "1348,\n",
      "1350,\n",
      "1352,\n",
      "1354,\n",
      "1356,\n",
      "1358,\n",
      "1360,\n",
      "1362,\n",
      "1364,\n",
      "1366,\n",
      "1368,\n",
      "1370,\n",
      "1372,\n",
      "1374,\n",
      "1376,\n",
      "1378,\n",
      "1380,\n",
      "1382,\n",
      "1384,\n",
      "1386,\n",
      "1388,\n",
      "1390,\n",
      "1392,\n",
      "1394,\n",
      "1396,\n",
      "1398,\n",
      "1400,\n",
      "1402,\n",
      "1404,\n",
      "1406,\n",
      "1408,\n",
      "1410,\n",
      "1412,\n",
      "1414,\n",
      "1416,\n",
      "1418,\n",
      "1420,\n",
      "1422,\n",
      "1424,\n",
      "1426,\n",
      "1428,\n",
      "1430,\n",
      "1432,\n",
      "1434,\n",
      "1436,\n",
      "1438,\n",
      "1440,\n",
      "1442,\n",
      "1444,\n",
      "1446,\n",
      "1448,\n",
      "1450,\n",
      "1452,\n",
      "1454,\n",
      "1456,\n",
      "1458,\n",
      "1460,\n",
      "1462,\n",
      "1464,\n",
      "1466,\n",
      "1468,\n",
      "1470,\n",
      "1472,\n",
      "1474,\n",
      "1476,\n",
      "1478,\n",
      "1480,\n",
      "1482,\n",
      "1484,\n",
      "1486,\n",
      "1488,\n",
      "1490,\n",
      "1492,\n",
      "1494,\n",
      "1496,\n",
      "1498,\n",
      "1500,\n",
      "1502,\n",
      "1504,\n",
      "1506,\n",
      "1508,\n",
      "1510,\n",
      "1512,\n",
      "1514,\n",
      "1516,\n",
      "1518,\n",
      "1520,\n",
      "1522,\n",
      "1524,\n",
      "1526,\n",
      "1528,\n",
      "1530,\n",
      "1532,\n",
      "1534,\n",
      "1536,\n",
      "1538,\n",
      "1540,\n",
      "1542,\n",
      "1544,\n",
      "1546,\n",
      "1548,\n",
      "1550,\n",
      "1552,\n",
      "1554,\n",
      "1556,\n",
      "1558,\n",
      "1560,\n",
      "1562,\n",
      "1564,\n",
      "1566,\n",
      "1568,\n",
      "1570,\n",
      "1572,\n",
      "1574,\n",
      "1576,\n",
      "1578,\n",
      "1580,\n",
      "1582,\n",
      "1584,\n",
      "1586,\n",
      "1588,\n",
      "1590,\n",
      "1592,\n",
      "1594,\n",
      "1596,\n",
      "1598,\n",
      "1600,\n",
      "1602,\n",
      "1604,\n",
      "1606,\n",
      "1608,\n",
      "1610,\n",
      "1612,\n",
      "1614,\n",
      "1616,\n",
      "1618,\n",
      "1620,\n",
      "1622,\n",
      "1624,\n",
      "1626,\n",
      "1628,\n",
      "1630,\n",
      "1632,\n",
      "1634,\n",
      "1636,\n",
      "1638,\n",
      "1640,\n",
      "1642,\n",
      "1644,\n",
      "1646,\n",
      "1648,\n",
      "1650,\n",
      "1652,\n",
      "1654,\n",
      "1656,\n",
      "1658,\n",
      "1660,\n",
      "1662,\n",
      "1664,\n",
      "1666,\n",
      "1668,\n",
      "1670,\n",
      "1672,\n",
      "1674,\n",
      "1676,\n",
      "1678,\n",
      "1680,\n",
      "1682,\n",
      "1684,\n",
      "1686,\n",
      "1688,\n",
      "1690,\n",
      "1692,\n",
      "1694,\n",
      "1696,\n",
      "1698,\n",
      "1700,\n",
      "1702,\n",
      "1704,\n",
      "1706,\n",
      "1708,\n",
      "1710,\n",
      "1712,\n",
      "1714,\n",
      "1716,\n",
      "1718,\n",
      "1720,\n",
      "1722,\n",
      "1724,\n",
      "1726,\n",
      "1728,\n",
      "1730,\n",
      "1732,\n",
      "1734,\n",
      "1736,\n",
      "1738,\n",
      "1740,\n",
      "1742,\n",
      "1744,\n",
      "1746,\n",
      "1748,\n",
      "1750,\n",
      "1752,\n",
      "1754,\n",
      "1756,\n",
      "1758,\n",
      "1760,\n",
      "1762,\n",
      "1764,\n",
      "1766,\n",
      "1768,\n",
      "1770,\n",
      "1772,\n",
      "1774,\n",
      "1776,\n",
      "1778,\n",
      "1780,\n",
      "1782,\n",
      "1784,\n",
      "1786,\n",
      "1788,\n",
      "1790,\n",
      "1792,\n",
      "1794,\n",
      "1796,\n",
      "1798,\n",
      "1800,\n",
      "1802,\n",
      "1804,\n",
      "1806,\n",
      "1808,\n",
      "1810,\n",
      "1812,\n",
      "1814,\n",
      "1816,\n",
      "1818,\n",
      "1820,\n",
      "1822,\n",
      "1824,\n",
      "1826,\n",
      "1828,\n",
      "1830,\n",
      "1832,\n",
      "1834,\n",
      "1836,\n",
      "1838,\n",
      "1840,\n",
      "1842,\n",
      "1844,\n",
      "1846,\n",
      "1848,\n",
      "1850,\n",
      "1852,\n",
      "1854,\n",
      "1856,\n",
      "1858,\n",
      "1860,\n",
      "1862,\n",
      "1864,\n",
      "1866,\n",
      "1868,\n",
      "1870,\n",
      "1872,\n",
      "1874,\n",
      "1876,\n",
      "1878,\n",
      "1880,\n",
      "1882,\n",
      "1884,\n",
      "1886,\n",
      "1888,\n",
      "1890,\n",
      "1892,\n",
      "1894,\n",
      "1896,\n",
      "1898,\n",
      "1900,\n",
      "1902,\n",
      "1904,\n",
      "1906,\n",
      "1908,\n",
      "1910,\n",
      "1912,\n",
      "1914,\n",
      "1916,\n",
      "1918,\n",
      "1920,\n",
      "1922,\n",
      "1924,\n",
      "1926,\n",
      "1928,\n",
      "1930,\n",
      "1932,\n",
      "1934,\n",
      "1936,\n",
      "1938,\n",
      "1940,\n",
      "1942,\n",
      "1944,\n",
      "1946,\n",
      "1948,\n",
      "1950,\n",
      "1952,\n",
      "1954,\n",
      "1956,\n",
      "1958,\n",
      "1960,\n",
      "1962,\n",
      "1964,\n",
      "1966,\n",
      "1968,\n",
      "1970,\n",
      "1972,\n",
      "1974,\n",
      "1976,\n",
      "1978,\n",
      "1980,\n",
      "1982,\n",
      "1984,\n",
      "1986,\n",
      "1988,\n",
      "1990,\n",
      "1992,\n",
      "1994,\n",
      "1996,\n",
      "1998,\n",
      "2000,\n",
      "2002,\n",
      "2004,\n",
      "2006,\n",
      "2008,\n",
      "2010,\n",
      "2012,\n",
      "2014,\n",
      "2016,\n",
      "2018,\n",
      "2020,\n",
      "2022,\n",
      "2024,\n",
      "2026,\n",
      "2028,\n",
      "2030,\n",
      "2032,\n",
      "2034,\n",
      "2036,\n",
      "2038,\n",
      "2040,\n",
      "2042,\n",
      "2044,\n",
      "2046,\n",
      "2048,\n",
      "2050,\n",
      "2052,\n",
      "2054,\n",
      "2056,\n",
      "2058,\n",
      "2060,\n",
      "2062,\n",
      "2064,\n",
      "2066,\n",
      "2068,\n",
      "2070,\n",
      "2072,\n",
      "2074,\n",
      "2076,\n",
      "2078,\n",
      "2080,\n",
      "2082,\n",
      "2084,\n",
      "2086,\n",
      "2088,\n",
      "2090,\n",
      "2092,\n",
      "2094,\n",
      "2096,\n",
      "2098,\n",
      "2100,\n",
      "2102,\n",
      "2104,\n",
      "2106,\n",
      "2108,\n",
      "2110,\n",
      "2112,\n",
      "2114,\n",
      "2116,\n",
      "2118,\n",
      "2120,\n",
      "2122,\n",
      "2124,\n",
      "2126,\n",
      "2128,\n",
      "2130,\n",
      "2132,\n",
      "2134,\n",
      "2136,\n",
      "2138,\n",
      "2140,\n",
      "2142,\n",
      "2144,\n",
      "2146,\n",
      "2148,\n",
      "2150,\n",
      "2152,\n",
      "2154,\n",
      "2156,\n",
      "2158,\n",
      "2160,\n",
      "2162,\n",
      "2164,\n",
      "2166,\n",
      "2168,\n",
      "2170,\n",
      "2172,\n",
      "2174,\n",
      "2176,\n",
      "2178,\n",
      "2180,\n",
      "2182,\n",
      "2184,\n",
      "2186,\n",
      "2188,\n",
      "2190,\n",
      "2192,\n",
      "2194,\n",
      "2196,\n",
      "2198,\n",
      "2200,\n",
      "2202,\n",
      "2204,\n",
      "2206,\n",
      "2208,\n",
      "2210,\n",
      "2212,\n",
      "2214,\n",
      "2216,\n",
      "2218,\n",
      "2220,\n",
      "2222,\n",
      "2224,\n",
      "2226,\n",
      "2228,\n",
      "2230,\n",
      "2232,\n",
      "2234,\n",
      "2236,\n",
      "2238,\n",
      "2240,\n",
      "2242,\n",
      "2244,\n",
      "2246,\n",
      "2248,\n",
      "2250,\n",
      "2252,\n",
      "2254,\n",
      "2256,\n",
      "2258,\n",
      "2260,\n",
      "2262,\n",
      "2264,\n",
      "2266,\n",
      "2268,\n",
      "2270,\n",
      "2272,\n",
      "2274,\n",
      "2276,\n",
      "2278,\n",
      "2280,\n",
      "2282,\n",
      "2284,\n",
      "2286,\n",
      "2288,\n",
      "2290,\n",
      "2292,\n",
      "2294,\n",
      "2296,\n",
      "2298,\n",
      "2300,\n",
      "2302,\n",
      "2304,\n",
      "2306,\n",
      "2308,\n",
      "2310,\n",
      "2312,\n",
      "2314,\n",
      "2316,\n",
      "2318,\n",
      "2320,\n",
      "2322,\n",
      "2324,\n",
      "2326,\n",
      "2328,\n",
      "2330,\n",
      "2332,\n",
      "2334,\n",
      "2336,\n",
      "2338,\n",
      "2340,\n",
      "2342,\n",
      "2344,\n",
      "2346,\n",
      "2348,\n",
      "2350,\n",
      "2352,\n",
      "2354,\n",
      "2356,\n",
      "2358,\n",
      "2360,\n",
      "2362,\n",
      "2364,\n",
      "2366,\n",
      "2368,\n",
      "2370,\n",
      "2372,\n",
      "2374,\n",
      "2376,\n",
      "2378,\n",
      "2380,\n",
      "2382,\n",
      "2384,\n",
      "2386,\n",
      "2388,\n",
      "2390,\n",
      "2392,\n",
      "2394,\n",
      "2396,\n",
      "2398,\n",
      "2400,\n",
      "2402,\n",
      "2404,\n",
      "2406,\n",
      "2408,\n",
      "2410,\n",
      "2412,\n",
      "2414,\n",
      "2416,\n",
      "2418,\n",
      "2420,\n",
      "2422,\n",
      "2424,\n",
      "2426,\n",
      "2428,\n",
      "2430,\n",
      "2432,\n",
      "2434,\n",
      "2436,\n",
      "2438,\n",
      "2440,\n",
      "2442,\n",
      "2444,\n",
      "2446,\n",
      "2448,\n",
      "2450,\n",
      "2452,\n",
      "2454,\n",
      "2456,\n",
      "2458,\n",
      "2460,\n",
      "2462,\n",
      "2464,\n",
      "2466,\n",
      "2468,\n",
      "2470,\n",
      "2472,\n",
      "2474,\n",
      "2476,\n",
      "2478,\n",
      "2480,\n",
      "2482,\n",
      "2484,\n",
      "2486,\n",
      "2488,\n",
      "2490,\n",
      "2492,\n",
      "2494,\n",
      "2496,\n",
      "2498,\n",
      "2500,\n",
      "2502,\n",
      "2504,\n",
      "2506,\n",
      "2508,\n",
      "2510,\n",
      "2512,\n",
      "2514,\n",
      "2516,\n",
      "2518,\n",
      "2520,\n",
      "2522,\n",
      "2524,\n",
      "2526,\n",
      "2528,\n",
      "2530,\n",
      "2532,\n",
      "2534,\n",
      "2536,\n",
      "2538,\n",
      "2540,\n",
      "2542,\n",
      "2544,\n",
      "2546,\n",
      "2548,\n",
      "2550,\n",
      "2552,\n",
      "2554,\n",
      "2556,\n",
      "2558,\n",
      "2560,\n",
      "2562,\n",
      "2564,\n",
      "2566,\n",
      "2568,\n",
      "2570,\n",
      "2572,\n",
      "2574,\n",
      "2576,\n",
      "2578,\n",
      "2580,\n",
      "2582,\n",
      "2584,\n",
      "2586,\n",
      "2588,\n",
      "2590,\n",
      "2592,\n",
      "2594,\n",
      "2596,\n",
      "2598,\n",
      "2600,\n",
      "2602,\n",
      "2604,\n",
      "2606,\n",
      "2608,\n",
      "2610,\n",
      "2612,\n",
      "2614,\n",
      "2616,\n",
      "2618,\n",
      "2620,\n",
      "2622,\n",
      "2624,\n",
      "2626,\n",
      "2628,\n",
      "2630,\n",
      "2632,\n",
      "2634,\n",
      "2636,\n",
      "2638,\n",
      "2640,\n",
      "2642,\n",
      "2644,\n",
      "2646,\n",
      "2648,\n",
      "2650,\n",
      "2652,\n",
      "2654,\n",
      "2656,\n",
      "2658,\n",
      "2660,\n",
      "2662,\n",
      "2664,\n",
      "2666,\n",
      "2668,\n",
      "2670,\n",
      "2672,\n",
      "2674,\n",
      "2676,\n",
      "2678,\n",
      "2680,\n",
      "2682,\n",
      "2684,\n",
      "2686,\n",
      "2688,\n",
      "2690,\n",
      "2692,\n",
      "2694,\n",
      "2696,\n",
      "2698,\n",
      "2700,\n",
      "2702,\n",
      "2704,\n",
      "2706,\n",
      "2708,\n",
      "2710,\n",
      "2712,\n",
      "2714,\n",
      "2716,\n",
      "2718,\n",
      "2720,\n",
      "2722,\n",
      "2724,\n",
      "2726,\n",
      "2728,\n",
      "2730,\n",
      "2732,\n",
      "2734,\n",
      "2736,\n",
      "2738,\n",
      "2740,\n",
      "2742,\n",
      "2744,\n",
      "2746,\n",
      "2748,\n",
      "2750,\n",
      "2752,\n",
      "2754,\n",
      "2756,\n",
      "2758,\n",
      "2760,\n",
      "2762,\n",
      "2764,\n",
      "2766,\n",
      "2768,\n",
      "2770,\n",
      "2772,\n",
      "2774,\n",
      "2776,\n",
      "2778,\n",
      "2780,\n",
      "2782,\n",
      "2784,\n",
      "2786,\n",
      "2788,\n",
      "2790,\n",
      "2792,\n",
      "2794,\n",
      "2796,\n",
      "2798,\n",
      "2800,\n",
      "2802,\n",
      "2804,\n",
      "2806,\n",
      "2808,\n",
      "2810,\n",
      "2812,\n",
      "2814,\n",
      "2816,\n",
      "2818,\n",
      "2820,\n",
      "2822,\n",
      "2824,\n",
      "2826,\n",
      "2828,\n",
      "2830,\n",
      "2832,\n",
      "2834,\n",
      "2836,\n",
      "2838,\n",
      "2840,\n",
      "2842,\n",
      "2844,\n",
      "2846,\n",
      "2848,\n",
      "2850,\n",
      "2852,\n",
      "2854,\n",
      "2856,\n",
      "2858,\n",
      "2860,\n",
      "2862,\n",
      "2864,\n",
      "2866,\n",
      "2868,\n",
      "2870,\n",
      "2872,\n",
      "2874,\n",
      "2876,\n",
      "2878,\n",
      "2880,\n",
      "2882,\n",
      "2884,\n",
      "2886,\n",
      "2888,\n",
      "2890,\n",
      "2892,\n",
      "2894,\n",
      "2896,\n",
      "2898,\n",
      "2900,\n",
      "2902,\n",
      "2904,\n",
      "2906,\n",
      "2908,\n",
      "2910,\n",
      "2912,\n",
      "2914,\n",
      "2916,\n",
      "2918,\n",
      "2920,\n",
      "2922,\n",
      "2924,\n",
      "2926,\n",
      "2928,\n",
      "2930,\n",
      "2932,\n",
      "2934,\n",
      "2936,\n",
      "2938,\n",
      "2940,\n",
      "2942,\n",
      "2944,\n",
      "2946,\n",
      "2948,\n",
      "2950,\n",
      "2952,\n",
      "2954,\n",
      "2956,\n",
      "2958,\n",
      "2960,\n",
      "2962,\n",
      "2964,\n",
      "2966,\n",
      "2968,\n",
      "2970,\n",
      "2972,\n",
      "2974,\n",
      "2976,\n",
      "2978,\n",
      "2980,\n",
      "2982,\n",
      "2984,\n",
      "2986,\n",
      "2988,\n",
      "2990,\n",
      "2992,\n",
      "2994,\n",
      "2996,\n",
      "2998,\n",
      "3000,\n"
     ]
    }
   ],
   "source": [
    "for number in range(1000, 3001, 2):\n",
    "    print (f\"{number},\")"
   ]
  },
  {
   "cell_type": "markdown",
   "id": "woTYySib2K-B",
   "metadata": {
    "id": "woTYySib2K-B"
   },
   "source": [
    "4. **Write a function to compute 5/0 and use try/except to catch the exceptions.**"
   ]
  },
  {
   "cell_type": "code",
   "execution_count": 88,
   "id": "1Vy3meH12K-B",
   "metadata": {
    "id": "1Vy3meH12K-B"
   },
   "outputs": [
    {
     "name": "stdout",
     "output_type": "stream",
     "text": [
      "You can't divide by zero!\n"
     ]
    }
   ],
   "source": [
    "def try_except():\n",
    "    try:\n",
    "        print (5/0)\n",
    "    except ZeroDivisionError:\n",
    "        print (\"You can't divide by zero!\")\n",
    "try_except()"
   ]
  },
  {
   "cell_type": "markdown",
   "id": "bXR27K5z2K-B",
   "metadata": {
    "id": "bXR27K5z2K-B"
   },
   "source": [
    "5. **Write a function that calclates the distance between two points.** <br>\n",
    "This is generally given for points $P_1=(x_1,y_1)$ and $P_2=(x_2,y_2)$ as$$D = |P_2 - P_1| = \\sqrt{(x_1-x_2)^2 + (y_1-y_2)^2}.$$\n",
    "\n",
    "Implement a method called distance which finds the distance from a point to another point."
   ]
  },
  {
   "cell_type": "code",
   "execution_count": 34,
   "id": "j0t7Mjm_2K-B",
   "metadata": {
    "id": "j0t7Mjm_2K-B"
   },
   "outputs": [
    {
     "name": "stdout",
     "output_type": "stream",
     "text": [
      "Enter the value of x1: 2\n",
      "Enter the value of y1: 3\n",
      "Enter the value of x2: 4\n",
      "Enter the value of y2: 5\n",
      "2.8284271247461903\n"
     ]
    }
   ],
   "source": [
    "import math\n",
    "def distance(x_one, y_one, x_two, y_two):\n",
    "    x_square = math.pow(x_one-x_two, 2)\n",
    "    y_square = math.pow(y_one-y_two, 2)\n",
    "    distance_variable = math.sqrt(x_square+y_square)\n",
    "    return distance_variable\n",
    "x1 = float(input(\"Enter the value of x1: \"))\n",
    "y1 = float(input(\"Enter the value of y1: \"))\n",
    "x2 = float(input(\"Enter the value of x2: \"))\n",
    "y2 = float(input(\"Enter the value of y2: \"))\n",
    "p1 = [x1, y1]\n",
    "p2 = [x2, y2]\n",
    "print(distance(x1, y1, x2, y2))\n",
    "    \n",
    "    "
   ]
  },
  {
   "cell_type": "markdown",
   "id": "Cn9jkrEX2K-B",
   "metadata": {
    "id": "Cn9jkrEX2K-B"
   },
   "source": [
    "6. **Write a function to calculate the standard deviation. This requirement should assume the data to be processed is stored in a list**"
   ]
  },
  {
   "cell_type": "code",
   "execution_count": 38,
   "id": "r6vDx92w2K-C",
   "metadata": {
    "id": "r6vDx92w2K-C"
   },
   "outputs": [
    {
     "name": "stdout",
     "output_type": "stream",
     "text": [
      "Enter the numbers with a ',' separating them: 34,98,55,33,34,98\n",
      "28.819360776317637\n"
     ]
    }
   ],
   "source": [
    "import math\n",
    "def standard_deviation(random_list):\n",
    "    total = 0\n",
    "    size = len(random_list)\n",
    "    for number in random_list:\n",
    "        total += number\n",
    "    mean = total/size\n",
    "    numerator = 0\n",
    "    for number in random_list:\n",
    "        numerator += math.pow((number-mean), 2)\n",
    "    standard_deviation_variable = math.sqrt(numerator / size)\n",
    "    return standard_deviation_variable  \n",
    "    \n",
    "    \n",
    "random_list_str = input(\"Enter the numbers with a ',' separating them: \").split(\",\")   #gets input from the user and converts into a list\n",
    "random_list_float = [float(x) for x in random_list_str]\n",
    "print(standard_deviation(random_list_float))"
   ]
  },
  {
   "cell_type": "markdown",
   "id": "l3DD9obC2K-C",
   "metadata": {
    "id": "l3DD9obC2K-C"
   },
   "source": [
    "## Python Advance"
   ]
  },
  {
   "cell_type": "markdown",
   "id": "iqi2wkUg2K-C",
   "metadata": {
    "id": "iqi2wkUg2K-C"
   },
   "source": [
    "1.  **Define a function with a generator which can iterate the numbers, which are divisible by 7, between a given range 0 and n.**<br>\n",
    "Hints: Consider using  yield\n"
   ]
  },
  {
   "cell_type": "code",
   "execution_count": 43,
   "id": "CNk7nK1E2K-C",
   "metadata": {
    "id": "CNk7nK1E2K-C"
   },
   "outputs": [
    {
     "name": "stdout",
     "output_type": "stream",
     "text": [
      "Enter a number: 29\n",
      "0\n",
      "7\n",
      "14\n",
      "21\n",
      "28\n"
     ]
    }
   ],
   "source": [
    "def generator(given_range_parameter):\n",
    "    for number in range(0, given_range_parameter, 7):\n",
    "        print (number)\n",
    "given_range = int(input(\"Enter a number: \"))\n",
    "generator(given_range)"
   ]
  },
  {
   "cell_type": "markdown",
   "id": "nPmzpEPA2K-C",
   "metadata": {
    "id": "nPmzpEPA2K-C"
   },
   "source": [
    "2. **Create a two-dimensional list with 3 'rows' and 4 'columns' and a mixture of strings and integers.**\n",
    "    - Loop through each element of the list and check if each element is a string or an integer. \n",
    "    - Save the strings as a dictionary with the index (row, column) as the key and the string as the value. \n",
    "    - Save the integers as a dictionary with the index (row, column) as the key and the integer as the value."
   ]
  },
  {
   "cell_type": "code",
   "execution_count": 112,
   "id": "-5iIuo3N2K-C",
   "metadata": {
    "id": "-5iIuo3N2K-C"
   },
   "outputs": [
    {
     "name": "stdout",
     "output_type": "stream",
     "text": [
      "{(0, 1): 6, (0, 2): 9, (1, 0): 3, (1, 2): 8, (2, 0): 2, (2, 2): 1, (3, 0): 5, (3, 1): 7}\n",
      "{(0, 0): 'one', (0, 3): 'five', (1, 1): 'two', (1, 3): 'six', (2, 1): 'three', (2, 3): 'seven', (3, 2): 'four', (3, 3): 'eight'}\n"
     ]
    }
   ],
   "source": [
    "string_dictionary = {}\n",
    "int_dictionary = {}\n",
    "two_dim = [   [\"one\", 6, 9, \"five\"],\n",
    "              [3, \"two\", 8, \"six\"],\n",
    "              [2, \"three\", 1, \"seven\"],\n",
    "              [5, 7, \"four\", \"eight\"]]\n",
    "for i in range(len(two_dim)):\n",
    "    for j in range(len(two_dim[i])):\n",
    "        element = two_dim[i][j]\n",
    "        if isinstance(element, int):\n",
    "            int_dictionary[(i,j)] = element\n",
    "        elif isinstance (element, str):\n",
    "            string_dictionary[(i,j)] = element\n",
    "print (int_dictionary)\n",
    "print (string_dictionary)"
   ]
  },
  {
   "cell_type": "markdown",
   "id": "31kokc-z2K-C",
   "metadata": {
    "id": "31kokc-z2K-C"
   },
   "source": [
    "3. **Download this text file of past [World Series winners](https://github.com/cuttlefishh/python-for-data-analysis/blob/master/data/world_series_winners.txt).**<br>\n",
    "<ul>\n",
    "<li> Read in the lines of the file to a list, so that each line is an element of the list. </li>\n",
    "<li> Create a new list with just those list elements that contain 'New York'; print that list, making sure there's not an extra newline character between each line. Print this list (no print command required). </li>\n",
    "<li> Use the set class to convert the list of all World Series winners to a list of unique values. Print this list (no print command required). </li>\n",
    "<li> Write the output to a new file </li>\n",
    "</ul>"
   ]
  },
  {
   "cell_type": "code",
   "execution_count": 115,
   "id": "q10NYUET2K-D",
   "metadata": {
    "id": "q10NYUET2K-D"
   },
   "outputs": [
    {
     "ename": "FileNotFoundError",
     "evalue": "[Errno 2] No such file or directory: 'world_series_winners.txt'",
     "output_type": "error",
     "traceback": [
      "\u001b[1;31m---------------------------------------------------------------------------\u001b[0m",
      "\u001b[1;31mFileNotFoundError\u001b[0m                         Traceback (most recent call last)",
      "\u001b[1;32mC:\\Users\\MRADED~1\\AppData\\Local\\Temp/ipykernel_4960/577591903.py\u001b[0m in \u001b[0;36m<module>\u001b[1;34m\u001b[0m\n\u001b[1;32m----> 1\u001b[1;33m \u001b[1;32mwith\u001b[0m \u001b[0mopen\u001b[0m\u001b[1;33m(\u001b[0m\u001b[1;34m\"world_series_winners.txt\"\u001b[0m\u001b[1;33m)\u001b[0m \u001b[1;32mas\u001b[0m \u001b[0mfile\u001b[0m\u001b[1;33m:\u001b[0m\u001b[1;33m\u001b[0m\u001b[1;33m\u001b[0m\u001b[0m\n\u001b[0m\u001b[0;32m      2\u001b[0m     \u001b[0mlines\u001b[0m \u001b[1;33m=\u001b[0m \u001b[0mfile\u001b[0m\u001b[1;33m.\u001b[0m\u001b[0mreadlines\u001b[0m\u001b[1;33m(\u001b[0m\u001b[1;33m)\u001b[0m\u001b[1;33m\u001b[0m\u001b[1;33m\u001b[0m\u001b[0m\n\u001b[0;32m      3\u001b[0m \u001b[0mprint\u001b[0m \u001b[1;33m(\u001b[0m\u001b[0mlines\u001b[0m\u001b[1;33m)\u001b[0m\u001b[1;33m\u001b[0m\u001b[1;33m\u001b[0m\u001b[0m\n",
      "\u001b[1;31mFileNotFoundError\u001b[0m: [Errno 2] No such file or directory: 'world_series_winners.txt'"
     ]
    }
   ],
   "source": [
    "with open(\"world_series_winners.txt\") as file:\n",
    "    lines = file.readlines()\n",
    "print (lines)"
   ]
  },
  {
   "cell_type": "markdown",
   "id": "dou7FSit2K-D",
   "metadata": {
    "id": "dou7FSit2K-D"
   },
   "source": [
    "3. **The Fibonacci sequence is a sequence of numbers where the next number in the sequence is given by the sum of the previous two numbers. The first two numbers are given as 0 and 1. So the sequence begins 0, 1, 1, 2, 3, 5, 8** <br>\n",
    "\n",
    "      _Write a function that accepts an input n, and compute the fibonacci number_"
   ]
  },
  {
   "cell_type": "code",
   "execution_count": 99,
   "id": "okzV-qsc2K-D",
   "metadata": {
    "id": "okzV-qsc2K-D"
   },
   "outputs": [
    {
     "name": "stdout",
     "output_type": "stream",
     "text": [
      "Enter a number: 8\n",
      "Fibonacci sequence:\n",
      "0\n",
      "1\n",
      "1\n",
      "2\n",
      "3\n",
      "5\n",
      "8\n",
      "13\n"
     ]
    }
   ],
   "source": [
    "a = 0\n",
    "b = 1\n",
    "def fibonacci(nth_term):\n",
    "    n1, n2 = 0, 1\n",
    "    count = 0\n",
    "    # check if the number of terms is valid\n",
    "    if nth_term <= 0:\n",
    "       print(\"Please enter a positive integer!\")\n",
    "    # if there is only one term, return n1\n",
    "    elif nth_term == 1:\n",
    "       print(f\"Fibonacci sequence up to \\\"{nterms}\\\": \")\n",
    "       print(n1)\n",
    "    # generate fibonacci sequence\n",
    "    else:\n",
    "       print(\"Fibonacci sequence:\")\n",
    "       while count < nth_term:\n",
    "           print(n1)\n",
    "           next_fib = n1 + n2\n",
    "           # update values\n",
    "           n1 = n2\n",
    "           n2 = next_fib\n",
    "           count += 1\n",
    "nterms = int(input(\"Enter a number: \"))\n",
    "fibonacci(nterms)"
   ]
  },
  {
   "cell_type": "markdown",
   "id": "vA5NPPsI2K-D",
   "metadata": {
    "id": "vA5NPPsI2K-D"
   },
   "source": [
    "## Project"
   ]
  },
  {
   "cell_type": "markdown",
   "id": "OpM8t7nR2K-D",
   "metadata": {
    "id": "OpM8t7nR2K-D"
   },
   "source": [
    "#### Using your favorite IDE ([VSCode](https://www.youtube.com/watch?v=RdD47NPku30), [Pycharm](https://www.youtube.com/watch?v=hK9-_s55CBY)), write a simple bank program that has the following functionalities \n",
    "\n",
    "<ol>\n",
    "    <li> Account registration </li>\n",
    "    <li> Deposit </li> \n",
    "    <li> Withdrawal </li>\n",
    "    <li> View balance </li>\n",
    "    <li> Get Balance </li>\n",
    "</ol>\n",
    "\n",
    "**Step 1**:<br>\n",
    "The Program should accepts input from console. For each instance of running the application,The console should print out the list of acceptable alpabets that signifies the operation they wish to perform.<br>\n",
    "\n",
    "Example:<br>\n",
    " >  **Welcome to Python Virtual Bank**<br>\n",
    "       C : To create an account<br>\n",
    "       L : Login to your account\n",
    "       E: Exit \n",
    "      \n",
    "   \n",
    " \n",
    "**Step 2**<br>\n",
    "If user input  is C\n",
    "- Provide  user with an input to enter their Name, Address, PhoneNo and Professions, and password \n",
    "- Set users balance to zero \n",
    "-  store the user_input   and the balance in a dictionary, with account_id as the key<br>\n",
    "- print out user details including their account_Id\n",
    "- Provide user with an input to select wether they want to perform a new operation or exit the platform \n",
    "- If a user decide to perform a new operation, then return the user to **Step 1** else if a user decided to exit go to **Step 6**<br>\n",
    "\n",
    "_Note that accountId should be an integer that increments after every creation of a new account and password should only accept 4 integers_\n",
    "\n",
    "\n",
    "**Step 3**<br>\n",
    "if user input is L:<br>\n",
    "a. Provide  user with an input to enter their accountID and password<br>\n",
    "b.  check if accountId is in the dictionary and the input password matches the password in the dictionary<br>\n",
    "c. if Yes print out the following<br>\n",
    "> **Welcome  Tolulope (User name associated with the accountId)**<br>\n",
    "    **Please Enter  an alphabet for the operation you want to perform**<br>\n",
    "          D: Deposit <br>\n",
    "          W: Withdraw <br>\n",
    "          G : Get Account Balance <br>\n",
    "          E : Exit\n",
    "- if No , repeat a to c\n",
    "\n",
    "\n",
    "**Step 4**\n",
    "If user input is D :\n",
    "- Provide user with an input to enter their account number, and deposit amount\n",
    "- Filter the dictionary and select only the items that corresponds to the account_number which is the key to your dictionary\n",
    "- Add the deposit amount to the balance in the dictionary\n",
    "- Provide user with an input to select wether they want to perform a new operation or exit the platform \n",
    "- If a user decide to perform a new operation, then return the user to **Step 2** else if a user decided to exit go to **Step 7**<br>\n",
    "\n",
    "**Step 5**\n",
    "if user input is W\n",
    "- Provide user with an input to enter their account number, and withdrwal amount\n",
    "- Filter the dictionary and select only the items that corresponds to the account_number which is the key to your dictionary\n",
    "- Check if withdrawl amount is lesser or equal to the user balance\n",
    "- If Yes, Subtract the withdrawal amount from the user balance and print out \"Transaction Successful\"\n",
    "- If No, print out insufficient amount \n",
    "- Provide user with an input to select wether they want to perform a new operation or exit the platform \n",
    "- If a user decide to perform a new operation, then return the user to **Step 2** else if a user decides to exit go to **Step 7**<br>\n",
    "\n",
    "**Step 6**\n",
    "if user input is G\n",
    "- Provide user with an input to enter their account number\n",
    "- Filter the dictionary and select only the items that corresponds to the account_number which is the key to your dictionary\n",
    "- Print out user details and current balance\n",
    "- Provide user with an input to select wether they want to perform a new operation or exit the platform \n",
    "- If a user decide to perform a new operation, then return the user to **Step 2** else if a user decides to exit go to **Step 7**<br>\n",
    "\n",
    "**Step 7**\n",
    "if user input is E\n",
    "- Break the program\n",
    "\n",
    "> _Hint: Use input( ) and exit( )_"
   ]
  },
  {
   "cell_type": "code",
   "execution_count": null,
   "id": "fBhluM552K-E",
   "metadata": {
    "id": "fBhluM552K-E"
   },
   "outputs": [],
   "source": []
  }
 ],
 "metadata": {
  "colab": {
   "name": "Python Exercise #1.ipynb",
   "provenance": []
  },
  "kernelspec": {
   "display_name": "Python 3 (ipykernel)",
   "language": "python",
   "name": "python3"
  },
  "language_info": {
   "codemirror_mode": {
    "name": "ipython",
    "version": 3
   },
   "file_extension": ".py",
   "mimetype": "text/x-python",
   "name": "python",
   "nbconvert_exporter": "python",
   "pygments_lexer": "ipython3",
   "version": "3.8.0"
  }
 },
 "nbformat": 4,
 "nbformat_minor": 5
}
